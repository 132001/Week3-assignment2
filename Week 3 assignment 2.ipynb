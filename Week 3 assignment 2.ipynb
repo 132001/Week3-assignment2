{
 "cells": [
  {
   "cell_type": "code",
   "execution_count": 1,
   "id": "800fad78-557d-426d-940e-4279d0cb1c9c",
   "metadata": {},
   "outputs": [],
   "source": [
    "#Question 1\n",
    "#Ans"
   ]
  },
  {
   "cell_type": "code",
   "execution_count": 2,
   "id": "4347fcd5-1eab-48f8-a0de-b5dc3bf5cab0",
   "metadata": {},
   "outputs": [
    {
     "data": {
      "text/plain": [
       "[('Virat Kohli', 24936),\n",
       " ('Jack Kallis', 25534),\n",
       " ('Ricky Ponting', 27483),\n",
       " ('Sachin Tendulkar', 34357)]"
      ]
     },
     "execution_count": 2,
     "metadata": {},
     "output_type": "execute_result"
    }
   ],
   "source": [
    "lst = [('Sachin Tendulkar', 34357), ('Ricky Ponting', 27483), ('Jack Kallis', 25534), ('Virat Kohli', 24936)]\n",
    "lst.sort(key = lambda x:x[1])\n",
    "lst"
   ]
  },
  {
   "cell_type": "code",
   "execution_count": 3,
   "id": "4b9630cd-aabf-485e-8757-bdbd491a7382",
   "metadata": {},
   "outputs": [],
   "source": [
    "#Question 2\n",
    "#Ans"
   ]
  },
  {
   "cell_type": "code",
   "execution_count": 4,
   "id": "8746c359-5ebd-4a11-83d2-1f04b88ab090",
   "metadata": {},
   "outputs": [
    {
     "data": {
      "text/plain": [
       "[1, 4, 9, 16, 25, 36, 49, 64, 81, 100]"
      ]
     },
     "execution_count": 4,
     "metadata": {},
     "output_type": "execute_result"
    }
   ],
   "source": [
    "l = [1,2,3,4,5,6,7,8,9,10]\n",
    "list(map(lambda x:x**2,l))"
   ]
  },
  {
   "cell_type": "code",
   "execution_count": 5,
   "id": "2031380d-ca74-4bee-8c0d-6af59a39cfdc",
   "metadata": {},
   "outputs": [],
   "source": [
    "#Question 3\n",
    "#Ans"
   ]
  },
  {
   "cell_type": "code",
   "execution_count": 6,
   "id": "38d272f3-6241-4d10-b94b-58f2c4522a23",
   "metadata": {},
   "outputs": [
    {
     "data": {
      "text/plain": [
       "('1', '2', '3', '4', '5', '6', '7', '8', '9', '10')"
      ]
     },
     "execution_count": 6,
     "metadata": {},
     "output_type": "execute_result"
    }
   ],
   "source": [
    "l1 = [1,2,3,4,5,6,7,8,9,10]\n",
    "tuple(map(lambda x: str(x),l1))"
   ]
  },
  {
   "cell_type": "code",
   "execution_count": 7,
   "id": "0518b8f4-8c65-4fa6-8723-e2d3b5662922",
   "metadata": {},
   "outputs": [],
   "source": [
    "#Question 4\n",
    "#Ans"
   ]
  },
  {
   "cell_type": "code",
   "execution_count": 8,
   "id": "9a5c6587-2762-4dc7-818a-210f05f1cc2f",
   "metadata": {},
   "outputs": [
    {
     "data": {
      "text/plain": [
       "15511210043330985984000000"
      ]
     },
     "execution_count": 8,
     "metadata": {},
     "output_type": "execute_result"
    }
   ],
   "source": [
    "from functools import reduce\n",
    "l2 = []\n",
    "for i in range(1,26):\n",
    "    l2.append(i)\n",
    "reduce(lambda x,y:x*y,l2)"
   ]
  },
  {
   "cell_type": "code",
   "execution_count": 9,
   "id": "973d036f-60e5-44c7-b7bc-7d4a8b59f7a7",
   "metadata": {},
   "outputs": [],
   "source": [
    "#Question 5\n",
    "#Ans"
   ]
  },
  {
   "cell_type": "code",
   "execution_count": 10,
   "id": "4c7ee0a6-f646-4d15-8a9d-da82313ee6f9",
   "metadata": {},
   "outputs": [
    {
     "data": {
      "text/plain": [
       "[6, 60, 90, 120]"
      ]
     },
     "execution_count": 10,
     "metadata": {},
     "output_type": "execute_result"
    }
   ],
   "source": [
    "l3 = [2, 3, 6, 9, 27, 60, 90, 120, 55, 46]\n",
    "list(filter(lambda x: (x % 2 ==0 and x%3==0),l3))"
   ]
  },
  {
   "cell_type": "code",
   "execution_count": 11,
   "id": "c7381e25-630e-4390-80f1-4153a4988ac7",
   "metadata": {},
   "outputs": [],
   "source": [
    "#Question 6\n",
    "#Ans"
   ]
  },
  {
   "cell_type": "code",
   "execution_count": 12,
   "id": "57671c55-35fe-43f6-a1d6-1a3215f04a4a",
   "metadata": {},
   "outputs": [
    {
     "data": {
      "text/plain": [
       "['php', 'aba', 'radar', 'level']"
      ]
     },
     "execution_count": 12,
     "metadata": {},
     "output_type": "execute_result"
    }
   ],
   "source": [
    "l4 = ['python', 'php', 'aba', 'radar', 'level']\n",
    "list(filter(lambda x: x==x[::-1],l4))"
   ]
  },
  {
   "cell_type": "code",
   "execution_count": null,
   "id": "0fa62069-0bc7-496e-8463-facab069b3e7",
   "metadata": {},
   "outputs": [],
   "source": []
  }
 ],
 "metadata": {
  "kernelspec": {
   "display_name": "Python 3 (ipykernel)",
   "language": "python",
   "name": "python3"
  },
  "language_info": {
   "codemirror_mode": {
    "name": "ipython",
    "version": 3
   },
   "file_extension": ".py",
   "mimetype": "text/x-python",
   "name": "python",
   "nbconvert_exporter": "python",
   "pygments_lexer": "ipython3",
   "version": "3.10.8"
  }
 },
 "nbformat": 4,
 "nbformat_minor": 5
}
